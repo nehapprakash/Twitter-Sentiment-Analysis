{
  "nbformat": 4,
  "nbformat_minor": 0,
  "metadata": {
    "colab": {
      "name": "NLP-Textblob   & Sentiment Analysis of Tweets",
      "provenance": [],
      "collapsed_sections": []
    },
    "kernelspec": {
      "name": "python3",
      "display_name": "Python 3"
    }
  },
  "cells": [
    {
      "cell_type": "code",
      "metadata": {
        "id": "8TKpgBM1TnEE",
        "colab": {
          "base_uri": "https://localhost:8080/"
        },
        "outputId": "947bf157-a102-46b5-82de-60c789940c2b"
      },
      "source": [
        "import nltk\n",
        "nltk.download('punkt')\n",
        "nltk.download('averaged_perceptron_tagger')\n",
        "nltk.download('brown')\n",
        "nltk.download('wordnet')\n",
        "from textblob import TextBlob"
      ],
      "execution_count": null,
      "outputs": [
        {
          "output_type": "stream",
          "text": [
            "[nltk_data] Downloading package punkt to /root/nltk_data...\n",
            "[nltk_data]   Unzipping tokenizers/punkt.zip.\n",
            "[nltk_data] Downloading package averaged_perceptron_tagger to\n",
            "[nltk_data]     /root/nltk_data...\n",
            "[nltk_data]   Unzipping taggers/averaged_perceptron_tagger.zip.\n",
            "[nltk_data] Downloading package brown to /root/nltk_data...\n",
            "[nltk_data]   Unzipping corpora/brown.zip.\n",
            "[nltk_data] Downloading package wordnet to /root/nltk_data...\n",
            "[nltk_data]   Unzipping corpora/wordnet.zip.\n"
          ],
          "name": "stdout"
        }
      ]
    },
    {
      "cell_type": "code",
      "metadata": {
        "id": "BV5lqPQXT1xV",
        "colab": {
          "base_uri": "https://localhost:8080/"
        },
        "outputId": "17c5faa6-feab-401d-8de2-d6b5fd8f238d"
      },
      "source": [
        "tb = TextBlob(\" Neha Prakash isthe the one of the student studing in cit college \")\n",
        "tb.tags"
      ],
      "execution_count": null,
      "outputs": [
        {
          "output_type": "execute_result",
          "data": {
            "text/plain": [
              "[('Neha', 'NNP'),\n",
              " ('Prakash', 'NNP'),\n",
              " ('isthe', 'VBD'),\n",
              " ('the', 'DT'),\n",
              " ('one', 'CD'),\n",
              " ('of', 'IN'),\n",
              " ('the', 'DT'),\n",
              " ('student', 'NN'),\n",
              " ('studing', 'VBG'),\n",
              " ('in', 'IN'),\n",
              " ('cit', 'NN'),\n",
              " ('college', 'NN')]"
            ]
          },
          "metadata": {
            "tags": []
          },
          "execution_count": 2
        }
      ]
    },
    {
      "cell_type": "code",
      "metadata": {
        "id": "q-SirGKOU2ut",
        "colab": {
          "base_uri": "https://localhost:8080/"
        },
        "outputId": "65605400-dbc7-47aa-fa66-2f396d444c2a"
      },
      "source": [
        "tb.noun_phrases"
      ],
      "execution_count": null,
      "outputs": [
        {
          "output_type": "execute_result",
          "data": {
            "text/plain": [
              "WordList(['neha prakash', 'cit college'])"
            ]
          },
          "metadata": {
            "tags": []
          },
          "execution_count": 3
        }
      ]
    },
    {
      "cell_type": "code",
      "metadata": {
        "id": "R88XyX64YhIp",
        "colab": {
          "base_uri": "https://localhost:8080/"
        },
        "outputId": "120de0bd-96e1-4702-86f1-c93c770c96e6"
      },
      "source": [
        "#Sentiment Analysis\n",
        "ex2=TextBlob(\"cit webinars are amazing. what great fun! I will always recommend it to my collegs\")\n",
        "print(ex2.sentiment)\n",
        "print(ex2.polarity)"
      ],
      "execution_count": null,
      "outputs": [
        {
          "output_type": "stream",
          "text": [
            "Sentiment(polarity=0.5916666666666667, subjectivity=0.6166666666666666)\n",
            "0.5916666666666667\n"
          ],
          "name": "stdout"
        }
      ]
    },
    {
      "cell_type": "code",
      "metadata": {
        "id": "P9KHaMlwaKW-",
        "colab": {
          "base_uri": "https://localhost:8080/"
        },
        "outputId": "56addb6a-5931-4585-9067-80ec31c1f060"
      },
      "source": [
        "#Sentiment Analysis\n",
        "ex3=TextBlob(\"My friend's behavior is sooooo confusing to me\")\n",
        "print(ex3.sentiment)\n",
        "print(ex3.polarity)"
      ],
      "execution_count": null,
      "outputs": [
        {
          "output_type": "stream",
          "text": [
            "Sentiment(polarity=-0.3, subjectivity=0.4)\n",
            "-0.3\n"
          ],
          "name": "stdout"
        }
      ]
    },
    {
      "cell_type": "code",
      "metadata": {
        "id": "eIwEBDUcalH7",
        "colab": {
          "base_uri": "https://localhost:8080/"
        },
        "outputId": "141cacf0-0489-40c8-b08e-6f244e8133c1"
      },
      "source": [
        "corpus = TextBlob(\"I love the cit trainings.\"\n",
        "                  \"They have good trainers.\"\n",
        "                  \"I shall recommend it ti my friends\")\n",
        "corpus.words"
      ],
      "execution_count": null,
      "outputs": [
        {
          "output_type": "execute_result",
          "data": {
            "text/plain": [
              "WordList(['I', 'love', 'the', 'cit', 'trainings.They', 'have', 'good', 'trainers.I', 'shall', 'recommend', 'it', 'ti', 'my', 'friends'])"
            ]
          },
          "metadata": {
            "tags": []
          },
          "execution_count": 6
        }
      ]
    },
    {
      "cell_type": "code",
      "metadata": {
        "id": "CNU2X3gUbW8q",
        "colab": {
          "base_uri": "https://localhost:8080/"
        },
        "outputId": "1264b05c-4b55-4480-cda3-9c85234f634a"
      },
      "source": [
        "corpus.sentences"
      ],
      "execution_count": null,
      "outputs": [
        {
          "output_type": "execute_result",
          "data": {
            "text/plain": [
              "[Sentence(\"I love the cit trainings.They have good trainers.I shall recommend it ti my friends\")]"
            ]
          },
          "metadata": {
            "tags": []
          },
          "execution_count": 7
        }
      ]
    },
    {
      "cell_type": "code",
      "metadata": {
        "id": "BtPaFWXLbyHP",
        "colab": {
          "base_uri": "https://localhost:8080/"
        },
        "outputId": "1eb19db9-23a4-419d-d44e-9fa3650fe427"
      },
      "source": [
        "for corp in corpus.sentences:\n",
        " print(corp.sentiment)"
      ],
      "execution_count": null,
      "outputs": [
        {
          "output_type": "stream",
          "text": [
            "Sentiment(polarity=0.6, subjectivity=0.6000000000000001)\n"
          ],
          "name": "stdout"
        }
      ]
    },
    {
      "cell_type": "markdown",
      "metadata": {
        "id": "enY8InI9cmOK"
      },
      "source": [
        "world inflection -> finding the plurality and singularity of word"
      ]
    },
    {
      "cell_type": "code",
      "metadata": {
        "id": "CZYLjl07cW1t",
        "colab": {
          "base_uri": "https://localhost:8080/"
        },
        "outputId": "335614cf-f7f1-4c14-9ab5-05de25e9fb65"
      },
      "source": [
        "#world inflection\n",
        "sentence = TextBlob(\"This webinar shall defintely take my understandings of NLP to the next level.\")\n",
        "sentence.words"
      ],
      "execution_count": null,
      "outputs": [
        {
          "output_type": "execute_result",
          "data": {
            "text/plain": [
              "WordList(['This', 'webinar', 'shall', 'defintely', 'take', 'my', 'understandings', 'of', 'NLP', 'to', 'the', 'next', 'level'])"
            ]
          },
          "metadata": {
            "tags": []
          },
          "execution_count": 9
        }
      ]
    },
    {
      "cell_type": "code",
      "metadata": {
        "id": "lFoSzTmCd7nQ",
        "colab": {
          "base_uri": "https://localhost:8080/",
          "height": 35
        },
        "outputId": "20e48769-6fd3-4e15-b270-1987f28f89b0"
      },
      "source": [
        "sentence.words[6].singularize()"
      ],
      "execution_count": null,
      "outputs": [
        {
          "output_type": "execute_result",
          "data": {
            "application/vnd.google.colaboratory.intrinsic+json": {
              "type": "string"
            },
            "text/plain": [
              "'understanding'"
            ]
          },
          "metadata": {
            "tags": []
          },
          "execution_count": 10
        }
      ]
    },
    {
      "cell_type": "code",
      "metadata": {
        "id": "4mBHFFszeKT9",
        "colab": {
          "base_uri": "https://localhost:8080/",
          "height": 35
        },
        "outputId": "df305389-78ed-4c00-ff9c-17a9569a1c80"
      },
      "source": [
        "sentence.words[-1].pluralize()"
      ],
      "execution_count": null,
      "outputs": [
        {
          "output_type": "execute_result",
          "data": {
            "application/vnd.google.colaboratory.intrinsic+json": {
              "type": "string"
            },
            "text/plain": [
              "'levels'"
            ]
          },
          "metadata": {
            "tags": []
          },
          "execution_count": 11
        }
      ]
    },
    {
      "cell_type": "markdown",
      "metadata": {
        "id": "MrhaKi3jgU28"
      },
      "source": [
        "Stemming-> is the process of getting root word\n",
        "\n",
        "ex:word  -->root words\n",
        "\n",
        "   fishes-->  fish\n",
        "\n",
        "   fishing-->fish"
      ]
    },
    {
      "cell_type": "code",
      "metadata": {
        "id": "jzp_JE2ogAD9",
        "colab": {
          "base_uri": "https://localhost:8080/"
        },
        "outputId": "0d2ef450-8b81-4bc8-ff8d-1e8e9d127a75"
      },
      "source": [
        "#stemmimg\n",
        "from nltk.stem import PorterStemmer\n",
        "st =PorterStemmer()\n",
        "print(st.stem(\"fish\"))\n",
        "print(st.stem(\"fishes\"))\n",
        "print(st.stem(\"fishing\"))\n",
        "print(st.stem(\"fisherman\"))\n",
        "print(st.stem(\"fisher\"))"
      ],
      "execution_count": null,
      "outputs": [
        {
          "output_type": "stream",
          "text": [
            "fish\n",
            "fish\n",
            "fish\n",
            "fisherman\n",
            "fisher\n"
          ],
          "name": "stdout"
        }
      ]
    },
    {
      "cell_type": "code",
      "metadata": {
        "id": "4cCEktvAiKTc",
        "colab": {
          "base_uri": "https://localhost:8080/"
        },
        "outputId": "9a88941e-84b0-443f-dcaf-54842105ec17"
      },
      "source": [
        "print(st.stem(\"I like fishing\"))\n",
        "print(st.stem(\"I eat fish\"))\n",
        "print(st.stem(\"There are a lot of fishes in the pond\"))"
      ],
      "execution_count": null,
      "outputs": [
        {
          "output_type": "stream",
          "text": [
            "i like fish\n",
            "i eat fish\n",
            "there are a lot of fishes in the pond\n"
          ],
          "name": "stdout"
        }
      ]
    },
    {
      "cell_type": "markdown",
      "metadata": {
        "id": "C59Yluy1jO81"
      },
      "source": [
        "\n",
        "Lemmatization-->is extracting the root words considering the vocabulary\n",
        "\n",
        "and it gives better results compare to stemming\n",
        "\n",
        "leafs-->leaf(stem)-->leaf(lemma)\n",
        "leaves-->leav(stem)-->leaf(lemma)"
      ]
    },
    {
      "cell_type": "code",
      "metadata": {
        "id": "L0KdbhgGincw",
        "colab": {
          "base_uri": "https://localhost:8080/"
        },
        "outputId": "483790d7-3c0c-43f7-e711-d760f073adff"
      },
      "source": [
        "print(st.stem(\"leafs\"))\n",
        "print(st.stem(\"leaves\"))"
      ],
      "execution_count": null,
      "outputs": [
        {
          "output_type": "stream",
          "text": [
            "leaf\n",
            "leav\n"
          ],
          "name": "stdout"
        }
      ]
    },
    {
      "cell_type": "code",
      "metadata": {
        "id": "aI_Nj6-3khXZ",
        "colab": {
          "base_uri": "https://localhost:8080/",
          "height": 35
        },
        "outputId": "d12ccff9-d1e1-4a03-860d-01df7745de57"
      },
      "source": [
        "from textblob import Word\n",
        "w = Word(\"running\")\n",
        "w.lemmatize()"
      ],
      "execution_count": null,
      "outputs": [
        {
          "output_type": "execute_result",
          "data": {
            "application/vnd.google.colaboratory.intrinsic+json": {
              "type": "string"
            },
            "text/plain": [
              "'running'"
            ]
          },
          "metadata": {
            "tags": []
          },
          "execution_count": 15
        }
      ]
    },
    {
      "cell_type": "code",
      "metadata": {
        "id": "CfsmotzBk8PZ",
        "colab": {
          "base_uri": "https://localhost:8080/",
          "height": 35
        },
        "outputId": "a01c5f22-154b-4b8d-8ca1-a3f30ca1ba53"
      },
      "source": [
        "w = Word(\"leafs\")\n",
        "w.lemmatize()"
      ],
      "execution_count": null,
      "outputs": [
        {
          "output_type": "execute_result",
          "data": {
            "application/vnd.google.colaboratory.intrinsic+json": {
              "type": "string"
            },
            "text/plain": [
              "'leaf'"
            ]
          },
          "metadata": {
            "tags": []
          },
          "execution_count": 16
        }
      ]
    },
    {
      "cell_type": "code",
      "metadata": {
        "id": "R6l7Ayxjl-S3",
        "colab": {
          "base_uri": "https://localhost:8080/",
          "height": 35
        },
        "outputId": "99920af8-3a02-40a6-b0be-7f33af5b88af"
      },
      "source": [
        "w = Word(\"leaves\")\n",
        "w.lemmatize()"
      ],
      "execution_count": null,
      "outputs": [
        {
          "output_type": "execute_result",
          "data": {
            "application/vnd.google.colaboratory.intrinsic+json": {
              "type": "string"
            },
            "text/plain": [
              "'leaf'"
            ]
          },
          "metadata": {
            "tags": []
          },
          "execution_count": 17
        }
      ]
    },
    {
      "cell_type": "code",
      "metadata": {
        "id": "6MWkZyxfmIEc",
        "colab": {
          "base_uri": "https://localhost:8080/",
          "height": 35
        },
        "outputId": "fac0de83-f779-431d-a8dc-ec0c64c52d14"
      },
      "source": [
        "w = Word(\"went\")\n",
        "w.lemmatize(\"v\")"
      ],
      "execution_count": null,
      "outputs": [
        {
          "output_type": "execute_result",
          "data": {
            "application/vnd.google.colaboratory.intrinsic+json": {
              "type": "string"
            },
            "text/plain": [
              "'go'"
            ]
          },
          "metadata": {
            "tags": []
          },
          "execution_count": 18
        }
      ]
    },
    {
      "cell_type": "markdown",
      "metadata": {
        "id": "5mKiGOUEcmPx"
      },
      "source": [
        "Word List-->is just a python list with additional method"
      ]
    },
    {
      "cell_type": "code",
      "metadata": {
        "id": "hXEfwH9omS2d",
        "colab": {
          "base_uri": "https://localhost:8080/"
        },
        "outputId": "83862a36-6041-4cc8-e901-a93cfdf4aed7"
      },
      "source": [
        "#wordlist\n",
        "animals=TextBlob(\"dog elephant tiger\")\n",
        "print(animals.words)\n",
        "print(animals.words.pluralize())"
      ],
      "execution_count": null,
      "outputs": [
        {
          "output_type": "stream",
          "text": [
            "['dog', 'elephant', 'tiger']\n",
            "['dogs', 'elephants', 'tigers']\n"
          ],
          "name": "stdout"
        }
      ]
    },
    {
      "cell_type": "code",
      "metadata": {
        "id": "_byuktbxdVuP",
        "colab": {
          "base_uri": "https://localhost:8080/"
        },
        "outputId": "e3fd8a1e-b614-4f56-fbe5-e0b7a9492a17"
      },
      "source": [
        "#spelling Correction\n",
        "b= TextBlob(\"I have a goood knwladge of speling\")\n",
        "print(b.correct())"
      ],
      "execution_count": null,
      "outputs": [
        {
          "output_type": "stream",
          "text": [
            "I have a good knowledge of spelling\n"
          ],
          "name": "stdout"
        }
      ]
    },
    {
      "cell_type": "code",
      "metadata": {
        "id": "zsquqgsTeA8g",
        "colab": {
          "base_uri": "https://localhost:8080/"
        },
        "outputId": "7a5b3345-d25e-43c7-ae09-1054c7c2762e"
      },
      "source": [
        "#spellcheck\n",
        "from textblob import Word\n",
        "w=Word(\"falibility\")\n",
        "w.spellcheck()"
      ],
      "execution_count": null,
      "outputs": [
        {
          "output_type": "execute_result",
          "data": {
            "text/plain": [
              "[('fallibility', 1.0)]"
            ]
          },
          "metadata": {
            "tags": []
          },
          "execution_count": 21
        }
      ]
    },
    {
      "cell_type": "code",
      "metadata": {
        "id": "AYNZSZDAeiJS",
        "colab": {
          "base_uri": "https://localhost:8080/"
        },
        "outputId": "5d6af04c-e81b-404c-eee3-6c9d9b3d0c9f"
      },
      "source": [
        "l=['love','mistak','professional','spaling','leptap','campoter']\n",
        "for a in l:\n",
        "  w=Word(a)\n",
        "  print(w.spellcheck())"
      ],
      "execution_count": null,
      "outputs": [
        {
          "output_type": "stream",
          "text": [
            "[('love', 1.0)]\n",
            "[('mistake', 1.0)]\n",
            "[('professional', 1.0)]\n",
            "[('sealing', 0.8), ('sparing', 0.2)]\n",
            "[('septa', 0.6363636363636364), ('leap', 0.36363636363636365)]\n",
            "[('computer', 0.75), ('composer', 0.1875), ('capotes', 0.0625)]\n"
          ],
          "name": "stdout"
        }
      ]
    },
    {
      "cell_type": "code",
      "metadata": {
        "id": "uW5AieoWfptz",
        "colab": {
          "base_uri": "https://localhost:8080/"
        },
        "outputId": "37a692e3-7033-4be4-bf0c-455dff8d5ea7"
      },
      "source": [
        "#Get word and noun phrase frequencies\n",
        "\n",
        "ss=TextBlob(\"TextBlob is Cool \"\n",
        "            \"This cool things is rising my interest in cool things of NLP.\")\n",
        "ss.word_counts['cool']"
      ],
      "execution_count": null,
      "outputs": [
        {
          "output_type": "execute_result",
          "data": {
            "text/plain": [
              "3"
            ]
          },
          "metadata": {
            "tags": []
          },
          "execution_count": 23
        }
      ]
    },
    {
      "cell_type": "code",
      "metadata": {
        "id": "4uVXMZQmhY6w",
        "colab": {
          "base_uri": "https://localhost:8080/"
        },
        "outputId": "c76208b6-e6e1-4f4b-e2fc-f1fd295e2345"
      },
      "source": [
        "ss.words.count('cool')"
      ],
      "execution_count": null,
      "outputs": [
        {
          "output_type": "execute_result",
          "data": {
            "text/plain": [
              "3"
            ]
          },
          "metadata": {
            "tags": []
          },
          "execution_count": 24
        }
      ]
    },
    {
      "cell_type": "code",
      "metadata": {
        "id": "PgGOvrvMhioG",
        "colab": {
          "base_uri": "https://localhost:8080/"
        },
        "outputId": "bad6ede0-f1cb-47f5-8901-f56ce28ff339"
      },
      "source": [
        "ss.words.count('cool',case_sensitive=True)"
      ],
      "execution_count": null,
      "outputs": [
        {
          "output_type": "execute_result",
          "data": {
            "text/plain": [
              "2"
            ]
          },
          "metadata": {
            "tags": []
          },
          "execution_count": 25
        }
      ]
    },
    {
      "cell_type": "code",
      "metadata": {
        "id": "s5YgQLZyiDnq",
        "colab": {
          "base_uri": "https://localhost:8080/"
        },
        "outputId": "45d25a08-aec3-48ca-ad3a-53921f22fef9"
      },
      "source": [
        "tb"
      ],
      "execution_count": null,
      "outputs": [
        {
          "output_type": "execute_result",
          "data": {
            "text/plain": [
              "TextBlob(\" Neha Prakash isthe the one of the student studing in cit college \")"
            ]
          },
          "metadata": {
            "tags": []
          },
          "execution_count": 26
        }
      ]
    },
    {
      "cell_type": "code",
      "metadata": {
        "id": "d4D5-9kziqpH",
        "colab": {
          "base_uri": "https://localhost:8080/"
        },
        "outputId": "3bd70da2-3295-49ef-801e-486ba4be546d"
      },
      "source": [
        "tb.noun_phrases"
      ],
      "execution_count": null,
      "outputs": [
        {
          "output_type": "execute_result",
          "data": {
            "text/plain": [
              "WordList(['neha prakash', 'cit college'])"
            ]
          },
          "metadata": {
            "tags": []
          },
          "execution_count": 27
        }
      ]
    },
    {
      "cell_type": "code",
      "metadata": {
        "id": "Nc6h0wgDivYs",
        "colab": {
          "base_uri": "https://localhost:8080/"
        },
        "outputId": "2b1e0ab9-9248-489c-f15b-2c2d7192e4f6"
      },
      "source": [
        "tb.noun_phrases.count('neha prakash')"
      ],
      "execution_count": null,
      "outputs": [
        {
          "output_type": "execute_result",
          "data": {
            "text/plain": [
              "1"
            ]
          },
          "metadata": {
            "tags": []
          },
          "execution_count": 28
        }
      ]
    },
    {
      "cell_type": "markdown",
      "metadata": {
        "id": "XA6DFroikenQ"
      },
      "source": [
        "n-grams\n",
        "\n",
        "ex:thank you-->2 grams\n",
        "\n",
        "I love u-->3 grams"
      ]
    },
    {
      "cell_type": "code",
      "metadata": {
        "id": "fvwQuobwjABz",
        "colab": {
          "base_uri": "https://localhost:8080/"
        },
        "outputId": "7775a3b3-0914-4439-e351-6c5d9868de63"
      },
      "source": [
        "# n-grams \n",
        "blob= TextBlob(\"good morning dear , I love you . thank you for being my life partner\")\n",
        "blob.ngrams(n=3)"
      ],
      "execution_count": null,
      "outputs": [
        {
          "output_type": "execute_result",
          "data": {
            "text/plain": [
              "[WordList(['good', 'morning', 'dear']),\n",
              " WordList(['morning', 'dear', 'I']),\n",
              " WordList(['dear', 'I', 'love']),\n",
              " WordList(['I', 'love', 'you']),\n",
              " WordList(['love', 'you', 'thank']),\n",
              " WordList(['you', 'thank', 'you']),\n",
              " WordList(['thank', 'you', 'for']),\n",
              " WordList(['you', 'for', 'being']),\n",
              " WordList(['for', 'being', 'my']),\n",
              " WordList(['being', 'my', 'life']),\n",
              " WordList(['my', 'life', 'partner'])]"
            ]
          },
          "metadata": {
            "tags": []
          },
          "execution_count": 29
        }
      ]
    },
    {
      "cell_type": "markdown",
      "metadata": {
        "id": "bh97bjuxm7Bq"
      },
      "source": [
        "# Text Classification\n"
      ]
    },
    {
      "cell_type": "code",
      "metadata": {
        "id": "BKkVAf_olJoM"
      },
      "source": [
        "train_data = [\n",
        "              ('This is an excelent movie', 'pos'),\n",
        "              ('the move was fantastic I like it ', 'pos'),\n",
        "              ('you should watch it,it is brilliant', 'pos'),\n",
        "              ('Exceptionally good', 'pos'),\n",
        "              (\"Wonderfully directed and executed. I like it\", 'pos'),\n",
        "              ('It was very boring', 'neg'),\n",
        "              ('I did not like the movie', 'neg'),\n",
        "              ('The movie was horrible', 'neg'),\n",
        "              ('I will not recommend', 'neg'),\n",
        "              ('The acting is pathetic', 'neg')\n",
        "]\n",
        "test_data = [\n",
        "             ('Its a fantastic series', 'pos'),\n",
        "             ('Never watched such a brillent movie', 'pos'),\n",
        "             ('horrible acting', 'neg'),\n",
        "             ('It is Wonderful movie', 'pos'),\n",
        "             ('waste of money', 'neg'),\n",
        "             ('pathetic picture', 'neg')\n",
        "]"
      ],
      "execution_count": null,
      "outputs": []
    },
    {
      "cell_type": "code",
      "metadata": {
        "id": "oXBoTZo-qMgX"
      },
      "source": [
        "from textblob.classifiers import NaiveBayesClassifier"
      ],
      "execution_count": null,
      "outputs": []
    },
    {
      "cell_type": "code",
      "metadata": {
        "id": "1Pk9-8pcqn0q"
      },
      "source": [
        "classifier = NaiveBayesClassifier(train_data)"
      ],
      "execution_count": null,
      "outputs": []
    },
    {
      "cell_type": "code",
      "metadata": {
        "id": "Lb_C3g9eq8ks",
        "colab": {
          "base_uri": "https://localhost:8080/",
          "height": 35
        },
        "outputId": "d83a9eb8-5e4e-4e9a-98f8-bf17ab9a1ecd"
      },
      "source": [
        "classifier.classify('The movie horrible')"
      ],
      "execution_count": null,
      "outputs": [
        {
          "output_type": "execute_result",
          "data": {
            "application/vnd.google.colaboratory.intrinsic+json": {
              "type": "string"
            },
            "text/plain": [
              "'neg'"
            ]
          },
          "metadata": {
            "tags": []
          },
          "execution_count": 33
        }
      ]
    },
    {
      "cell_type": "code",
      "metadata": {
        "id": "h3OMGmvfrJJj",
        "colab": {
          "base_uri": "https://localhost:8080/",
          "height": 35
        },
        "outputId": "e78d21c6-5368-48ef-e3ce-dd32595a051e"
      },
      "source": [
        "classifier.classify('It is excellent')"
      ],
      "execution_count": null,
      "outputs": [
        {
          "output_type": "execute_result",
          "data": {
            "application/vnd.google.colaboratory.intrinsic+json": {
              "type": "string"
            },
            "text/plain": [
              "'neg'"
            ]
          },
          "metadata": {
            "tags": []
          },
          "execution_count": 34
        }
      ]
    },
    {
      "cell_type": "code",
      "metadata": {
        "id": "qylb5NlirbfG",
        "colab": {
          "base_uri": "https://localhost:8080/"
        },
        "outputId": "14548a9d-894b-4a17-a93c-f84de96a315e"
      },
      "source": [
        "sentence = TextBlob(\" It is a fantastic series\",classifier=classifier )\n",
        "print(sentence.classify())"
      ],
      "execution_count": null,
      "outputs": [
        {
          "output_type": "stream",
          "text": [
            "neg\n"
          ],
          "name": "stdout"
        }
      ]
    },
    {
      "cell_type": "code",
      "metadata": {
        "id": "lJZ3vxsqsGG8",
        "colab": {
          "base_uri": "https://localhost:8080/"
        },
        "outputId": "bc8092da-4644-4cc5-ee19-99cf3ac6f300"
      },
      "source": [
        "classifier.accuracy(test_data)"
      ],
      "execution_count": null,
      "outputs": [
        {
          "output_type": "execute_result",
          "data": {
            "text/plain": [
              "0.6666666666666666"
            ]
          },
          "metadata": {
            "tags": []
          },
          "execution_count": 36
        }
      ]
    },
    {
      "cell_type": "code",
      "metadata": {
        "id": "0cm-0W9gWakE",
        "colab": {
          "base_uri": "https://localhost:8080/"
        },
        "outputId": "80166fa0-69d4-4cb6-dc0e-7c2f2164bf45"
      },
      "source": [
        "#Sentiment Analysis\n",
        "ex1=TextBlob(\"cit webinars are superb. I recommend them to all\")\n",
        "print(ex1.sentiment)\n",
        "print(ex1.polarity)"
      ],
      "execution_count": null,
      "outputs": [
        {
          "output_type": "stream",
          "text": [
            "Sentiment(polarity=1.0, subjectivity=1.0)\n",
            "1.0\n"
          ],
          "name": "stdout"
        }
      ]
    },
    {
      "cell_type": "code",
      "metadata": {
        "id": "Jv-kGJu3DMWM"
      },
      "source": [
        "#tweets which contains key word Avengers\n",
        "public_tweets = api.search('AVENGERS')\n",
        "\n",
        "\n",
        "for tweet in public_tweets:\n",
        "  print (tweet.text)\n",
        "  analysis = TextBlob(tweet.text)\n",
        "  print(analysis.sentiment)\n",
        "  if analysis.sentiment[0]>0:\n",
        "    print('Positive')\n",
        "  elif analysis.sentiment[0]<0:\n",
        "   print('Negative')\n",
        "  else :\n",
        "    print('Neutral')"
      ],
      "execution_count": null,
      "outputs": []
    },
    {
      "cell_type": "markdown",
      "metadata": {
        "id": "VnwDBc-0Debo"
      },
      "source": [
        "#**Twitter Sentiment Analysis**"
      ]
    },
    {
      "cell_type": "code",
      "metadata": {
        "id": "y8zpRdK1h8KB"
      },
      "source": [
        "#Import the libraries\n",
        "import tweepy\n",
        "from textblob  import TextBlob\n",
        "from wordcloud import WordCloud\n",
        "import pandas as pd\n",
        "import numpy as np\n",
        "import re\n",
        "import matplotlib.pyplot as plt\n",
        "plt.style.use('fivethirtyeight')\n",
        "\n",
        "#Twitter API credentials\n",
        "consumer_key = \"9EEJFQJ34VHZ9FKnh21RZrNsu\"\n",
        "consumer_key_secret = \"GHBVjKVn9yk5pM5A62qYw91D5sArI5mG7HtMGTKeg0rMWBTHv6\"\n",
        "\n",
        "access_token = \"1318211356667961345-sxn7ZQXdG3XMnB1v39FbTrHMl8042N\"\n",
        "access_token_secret =  \"ebXDzbz8Y6BIToXsmtB5HvjxjcI6kfQisKaVWRgLjgSU5\"\n",
        "\n",
        "#Creating the authentication object\n",
        "auth = tweepy.OAuthHandler(consumer_key, consumer_key_secret)\n",
        "\n",
        "#Set the access token and access token secret\n",
        "auth.set_access_token(access_token,access_token_secret)\n",
        "\n",
        "#Create the API object while passing in the auth information\n",
        "api = tweepy.API(auth,wait_on_rate_limit=True)\n",
        "\n",
        "\n"
      ],
      "execution_count": null,
      "outputs": []
    },
    {
      "cell_type": "code",
      "metadata": {
        "id": "CpjPXhsMA9-Y",
        "colab": {
          "base_uri": "https://localhost:8080/"
        },
        "outputId": "1fb0fb06-4c30-4e36-cad9-7d7614ae68cc"
      },
      "source": [
        "#Extract 100 tweets from the twitter user\n",
        "posts = api.user_timeline(screen_name =\"@narendramodi_in\", count = 100,lang = \"en\", tweet_mode=\"extended\")\n",
        "\n",
        "#print the last 5 tweets from the account\n",
        "print(\"Show the 5 recent tweets: \\n\")\n",
        "i=1\n",
        "\n",
        "for tweet in posts[0:5]:\n",
        "  print(str(i) + ') '+tweet.full_text + '\\n')\n",
        "  i=i+1\n"
      ],
      "execution_count": null,
      "outputs": [
        {
          "output_type": "stream",
          "text": [
            "Show the 5 recent tweets: \n",
            "\n",
            "1) PM lauds UP’s industrial dept, ease of doing business efforts\n",
            "https://t.co/px4wkHPR2d \n",
            "\n",
            "via NaMo App https://t.co/s9xKSRgQlM\n",
            "\n",
            "2) India's exports rise to all-time high of $95 billion in June quarter\n",
            "https://t.co/wruuqlttWt \n",
            "\n",
            "via NaMo App https://t.co/HT7LrLjcsI\n",
            "\n",
            "3) Modi Govt Includes Retail And Wholesale Trades Under MSME, To Benefit 2.5 Crore Traders \n",
            "https://t.co/9JmYuuC3sD \n",
            "\n",
            "via NaMo App https://t.co/kNjaZyMzT6\n",
            "\n",
            "4) जानिए श्रीनगर के तारिक अहमद पतलू को पीएम मोदी से क्या है उम्मीद, 'मन की बात' में नरेंद्र मोदी ने की है तारीफ #MannKiBaat\n",
            "https://t.co/oZa0vmA55a \n",
            "\n",
            "via NaMo App https://t.co/zE99m3Fkof\n",
            "\n",
            "5) पीएम मोदी ने किया उत्तराखंड के सच्चिदानंद भारती का जिक्र, पढ़ें इन्होंने कैसे किया जल-जंगल का संरक्षण #MannKiBaat\n",
            "https://t.co/sPsH6sFJcg \n",
            "\n",
            "via NaMo App https://t.co/KzxG4rBWGA\n",
            "\n"
          ],
          "name": "stdout"
        }
      ]
    },
    {
      "cell_type": "code",
      "metadata": {
        "id": "oD_u0cVGEDjN",
        "colab": {
          "base_uri": "https://localhost:8080/",
          "height": 204
        },
        "outputId": "e85175f8-76d6-4507-8cc7-48d41a0138e3"
      },
      "source": [
        "#Create a dataframe with a column called Tweets\n",
        "df = pd.DataFrame([tweet.full_text for tweet in posts] ,columns=['Tweets'])\n",
        "\n",
        "#Shown the first 5 rows of data\n",
        "df.head()"
      ],
      "execution_count": null,
      "outputs": [
        {
          "output_type": "execute_result",
          "data": {
            "text/html": [
              "<div>\n",
              "<style scoped>\n",
              "    .dataframe tbody tr th:only-of-type {\n",
              "        vertical-align: middle;\n",
              "    }\n",
              "\n",
              "    .dataframe tbody tr th {\n",
              "        vertical-align: top;\n",
              "    }\n",
              "\n",
              "    .dataframe thead th {\n",
              "        text-align: right;\n",
              "    }\n",
              "</style>\n",
              "<table border=\"1\" class=\"dataframe\">\n",
              "  <thead>\n",
              "    <tr style=\"text-align: right;\">\n",
              "      <th></th>\n",
              "      <th>Tweets</th>\n",
              "    </tr>\n",
              "  </thead>\n",
              "  <tbody>\n",
              "    <tr>\n",
              "      <th>0</th>\n",
              "      <td>PM lauds UP’s industrial dept, ease of doing b...</td>\n",
              "    </tr>\n",
              "    <tr>\n",
              "      <th>1</th>\n",
              "      <td>India's exports rise to all-time high of $95 b...</td>\n",
              "    </tr>\n",
              "    <tr>\n",
              "      <th>2</th>\n",
              "      <td>Modi Govt Includes Retail And Wholesale Trades...</td>\n",
              "    </tr>\n",
              "    <tr>\n",
              "      <th>3</th>\n",
              "      <td>जानिए श्रीनगर के तारिक अहमद पतलू को पीएम मोदी ...</td>\n",
              "    </tr>\n",
              "    <tr>\n",
              "      <th>4</th>\n",
              "      <td>पीएम मोदी ने किया उत्तराखंड के सच्चिदानंद भारत...</td>\n",
              "    </tr>\n",
              "  </tbody>\n",
              "</table>\n",
              "</div>"
            ],
            "text/plain": [
              "                                              Tweets\n",
              "0  PM lauds UP’s industrial dept, ease of doing b...\n",
              "1  India's exports rise to all-time high of $95 b...\n",
              "2  Modi Govt Includes Retail And Wholesale Trades...\n",
              "3  जानिए श्रीनगर के तारिक अहमद पतलू को पीएम मोदी ...\n",
              "4  पीएम मोदी ने किया उत्तराखंड के सच्चिदानंद भारत..."
            ]
          },
          "metadata": {
            "tags": []
          },
          "execution_count": 3
        }
      ]
    },
    {
      "cell_type": "code",
      "metadata": {
        "id": "GDEpZ8TFFK6i",
        "colab": {
          "base_uri": "https://localhost:8080/",
          "height": 420
        },
        "outputId": "99dd976f-9d08-4147-9e7f-da791346c56d"
      },
      "source": [
        "#Clean the Text\n",
        "\n",
        "#Create a function to clean the tweets\n",
        "def cleanTxt(text):\n",
        "  text = re.sub(r'@[A-Za-z0-9]+', '',text)    #Remove's  @mentions\n",
        "  text = re.sub(r'#', '',text)                #Remove's  the '#' symbol \n",
        "  text = re.sub(r'RT[\\s]+', '',text)          #Remove's  RT\n",
        "  text = re.sub(r':', '',text)                #Remove's ':' symbol\n",
        "  text = re.sub(r'https?:\\/\\/S+', '',text)    #Remove's  the hyper link\n",
        "\n",
        "  return text\n",
        "\n",
        "#Cleaning the text\n",
        "df ['Tweets']= df['Tweets'].apply(cleanTxt)\n",
        "\n",
        "#Show the cleaned text\n",
        "df"
      ],
      "execution_count": null,
      "outputs": [
        {
          "output_type": "execute_result",
          "data": {
            "text/html": [
              "<div>\n",
              "<style scoped>\n",
              "    .dataframe tbody tr th:only-of-type {\n",
              "        vertical-align: middle;\n",
              "    }\n",
              "\n",
              "    .dataframe tbody tr th {\n",
              "        vertical-align: top;\n",
              "    }\n",
              "\n",
              "    .dataframe thead th {\n",
              "        text-align: right;\n",
              "    }\n",
              "</style>\n",
              "<table border=\"1\" class=\"dataframe\">\n",
              "  <thead>\n",
              "    <tr style=\"text-align: right;\">\n",
              "      <th></th>\n",
              "      <th>Tweets</th>\n",
              "    </tr>\n",
              "  </thead>\n",
              "  <tbody>\n",
              "    <tr>\n",
              "      <th>0</th>\n",
              "      <td>PM lauds UP’s industrial dept, ease of doing b...</td>\n",
              "    </tr>\n",
              "    <tr>\n",
              "      <th>1</th>\n",
              "      <td>India's exports rise to all-time high of $95 b...</td>\n",
              "    </tr>\n",
              "    <tr>\n",
              "      <th>2</th>\n",
              "      <td>Modi Govt Includes Retail And Wholesale Trades...</td>\n",
              "    </tr>\n",
              "    <tr>\n",
              "      <th>3</th>\n",
              "      <td>जानिए श्रीनगर के तारिक अहमद पतलू को पीएम मोदी ...</td>\n",
              "    </tr>\n",
              "    <tr>\n",
              "      <th>4</th>\n",
              "      <td>पीएम मोदी ने किया उत्तराखंड के सच्चिदानंद भारत...</td>\n",
              "    </tr>\n",
              "    <tr>\n",
              "      <th>...</th>\n",
              "      <td>...</td>\n",
              "    </tr>\n",
              "    <tr>\n",
              "      <th>95</th>\n",
              "      <td>Head to the all new Vikas Yatra on NaMo App an...</td>\n",
              "    </tr>\n",
              "    <tr>\n",
              "      <th>96</th>\n",
              "      <td>The journey of 7 years of Modi government is g...</td>\n",
              "    </tr>\n",
              "    <tr>\n",
              "      <th>97</th>\n",
              "      <td>MannKiBaat at 11AM. Do tune in. https//t.co/T0...</td>\n",
              "    </tr>\n",
              "    <tr>\n",
              "      <th>98</th>\n",
              "      <td>PM  lauds Kashi COVID Response Centre's effort...</td>\n",
              "    </tr>\n",
              "    <tr>\n",
              "      <th>99</th>\n",
              "      <td>PM  gets emotional, remembers those who lost t...</td>\n",
              "    </tr>\n",
              "  </tbody>\n",
              "</table>\n",
              "<p>100 rows × 1 columns</p>\n",
              "</div>"
            ],
            "text/plain": [
              "                                               Tweets\n",
              "0   PM lauds UP’s industrial dept, ease of doing b...\n",
              "1   India's exports rise to all-time high of $95 b...\n",
              "2   Modi Govt Includes Retail And Wholesale Trades...\n",
              "3   जानिए श्रीनगर के तारिक अहमद पतलू को पीएम मोदी ...\n",
              "4   पीएम मोदी ने किया उत्तराखंड के सच्चिदानंद भारत...\n",
              "..                                                ...\n",
              "95  Head to the all new Vikas Yatra on NaMo App an...\n",
              "96  The journey of 7 years of Modi government is g...\n",
              "97  MannKiBaat at 11AM. Do tune in. https//t.co/T0...\n",
              "98  PM  lauds Kashi COVID Response Centre's effort...\n",
              "99  PM  gets emotional, remembers those who lost t...\n",
              "\n",
              "[100 rows x 1 columns]"
            ]
          },
          "metadata": {
            "tags": []
          },
          "execution_count": 4
        }
      ]
    },
    {
      "cell_type": "markdown",
      "metadata": {
        "id": "KAMNb_KRY4hW"
      },
      "source": [
        "Sentiment(polarity(-1 to 1),subjectivity(0 to 1))\n",
        "\n",
        "0->very objective(on point)\n",
        "\n",
        "1->very subjective(quit thearetical)"
      ]
    },
    {
      "cell_type": "code",
      "metadata": {
        "id": "wCXbfnexIeYH",
        "colab": {
          "base_uri": "https://localhost:8080/",
          "height": 420
        },
        "outputId": "2945118c-dabe-4b68-ff57-3c111c60a484"
      },
      "source": [
        "#Create a function to get the subjectivity\n",
        "def getSubjectivity(text):\n",
        "  return TextBlob(text).sentiment.subjectivity\n",
        "\n",
        "#Create a function to get the polarity\n",
        "def getPolarity(text):\n",
        "  return TextBlob(text).sentiment.polarity\n",
        "\n",
        "#Create two new columns\n",
        "df['Subjectivity'] = df['Tweets'].apply(getSubjectivity)\n",
        "df['Polarity'] = df['Tweets'].apply(getPolarity)\n",
        "\n",
        "#Show the new dataframe with the new columns \n",
        "df"
      ],
      "execution_count": null,
      "outputs": [
        {
          "output_type": "execute_result",
          "data": {
            "text/html": [
              "<div>\n",
              "<style scoped>\n",
              "    .dataframe tbody tr th:only-of-type {\n",
              "        vertical-align: middle;\n",
              "    }\n",
              "\n",
              "    .dataframe tbody tr th {\n",
              "        vertical-align: top;\n",
              "    }\n",
              "\n",
              "    .dataframe thead th {\n",
              "        text-align: right;\n",
              "    }\n",
              "</style>\n",
              "<table border=\"1\" class=\"dataframe\">\n",
              "  <thead>\n",
              "    <tr style=\"text-align: right;\">\n",
              "      <th></th>\n",
              "      <th>Tweets</th>\n",
              "      <th>Subjectivity</th>\n",
              "      <th>Polarity</th>\n",
              "    </tr>\n",
              "  </thead>\n",
              "  <tbody>\n",
              "    <tr>\n",
              "      <th>0</th>\n",
              "      <td>PM lauds UP’s industrial dept, ease of doing b...</td>\n",
              "      <td>0.000000</td>\n",
              "      <td>0.000000</td>\n",
              "    </tr>\n",
              "    <tr>\n",
              "      <th>1</th>\n",
              "      <td>India's exports rise to all-time high of $95 b...</td>\n",
              "      <td>0.540000</td>\n",
              "      <td>0.160000</td>\n",
              "    </tr>\n",
              "    <tr>\n",
              "      <th>2</th>\n",
              "      <td>Modi Govt Includes Retail And Wholesale Trades...</td>\n",
              "      <td>0.000000</td>\n",
              "      <td>0.000000</td>\n",
              "    </tr>\n",
              "    <tr>\n",
              "      <th>3</th>\n",
              "      <td>जानिए श्रीनगर के तारिक अहमद पतलू को पीएम मोदी ...</td>\n",
              "      <td>0.000000</td>\n",
              "      <td>0.000000</td>\n",
              "    </tr>\n",
              "    <tr>\n",
              "      <th>4</th>\n",
              "      <td>पीएम मोदी ने किया उत्तराखंड के सच्चिदानंद भारत...</td>\n",
              "      <td>0.000000</td>\n",
              "      <td>0.000000</td>\n",
              "    </tr>\n",
              "    <tr>\n",
              "      <th>...</th>\n",
              "      <td>...</td>\n",
              "      <td>...</td>\n",
              "      <td>...</td>\n",
              "    </tr>\n",
              "    <tr>\n",
              "      <th>95</th>\n",
              "      <td>Head to the all new Vikas Yatra on NaMo App an...</td>\n",
              "      <td>0.443182</td>\n",
              "      <td>0.170455</td>\n",
              "    </tr>\n",
              "    <tr>\n",
              "      <th>96</th>\n",
              "      <td>The journey of 7 years of Modi government is g...</td>\n",
              "      <td>0.454545</td>\n",
              "      <td>0.136364</td>\n",
              "    </tr>\n",
              "    <tr>\n",
              "      <th>97</th>\n",
              "      <td>MannKiBaat at 11AM. Do tune in. https//t.co/T0...</td>\n",
              "      <td>0.000000</td>\n",
              "      <td>0.000000</td>\n",
              "    </tr>\n",
              "    <tr>\n",
              "      <th>98</th>\n",
              "      <td>PM  lauds Kashi COVID Response Centre's effort...</td>\n",
              "      <td>0.000000</td>\n",
              "      <td>0.000000</td>\n",
              "    </tr>\n",
              "    <tr>\n",
              "      <th>99</th>\n",
              "      <td>PM  gets emotional, remembers those who lost t...</td>\n",
              "      <td>0.650000</td>\n",
              "      <td>0.000000</td>\n",
              "    </tr>\n",
              "  </tbody>\n",
              "</table>\n",
              "<p>100 rows × 3 columns</p>\n",
              "</div>"
            ],
            "text/plain": [
              "                                               Tweets  Subjectivity  Polarity\n",
              "0   PM lauds UP’s industrial dept, ease of doing b...      0.000000  0.000000\n",
              "1   India's exports rise to all-time high of $95 b...      0.540000  0.160000\n",
              "2   Modi Govt Includes Retail And Wholesale Trades...      0.000000  0.000000\n",
              "3   जानिए श्रीनगर के तारिक अहमद पतलू को पीएम मोदी ...      0.000000  0.000000\n",
              "4   पीएम मोदी ने किया उत्तराखंड के सच्चिदानंद भारत...      0.000000  0.000000\n",
              "..                                                ...           ...       ...\n",
              "95  Head to the all new Vikas Yatra on NaMo App an...      0.443182  0.170455\n",
              "96  The journey of 7 years of Modi government is g...      0.454545  0.136364\n",
              "97  MannKiBaat at 11AM. Do tune in. https//t.co/T0...      0.000000  0.000000\n",
              "98  PM  lauds Kashi COVID Response Centre's effort...      0.000000  0.000000\n",
              "99  PM  gets emotional, remembers those who lost t...      0.650000  0.000000\n",
              "\n",
              "[100 rows x 3 columns]"
            ]
          },
          "metadata": {
            "tags": []
          },
          "execution_count": 5
        }
      ]
    },
    {
      "cell_type": "code",
      "metadata": {
        "id": "K2wu_d-tLnDm",
        "colab": {
          "base_uri": "https://localhost:8080/",
          "height": 420
        },
        "outputId": "c8414ae1-55f0-4fc6-8d0b-a3972aa11dfa"
      },
      "source": [
        "#Create a function to compute the negative,neutral and positive analysis\n",
        "def getAnalysis(score):\n",
        "  if score<0:\n",
        "    return 'Negative'\n",
        "  elif score== 0:\n",
        "    return 'Neutral'\n",
        "  else :\n",
        "    return 'Positive'\n",
        "df['Analysis'] = df['Polarity'].apply(getAnalysis)\n",
        "\n",
        "df"
      ],
      "execution_count": null,
      "outputs": [
        {
          "output_type": "execute_result",
          "data": {
            "text/html": [
              "<div>\n",
              "<style scoped>\n",
              "    .dataframe tbody tr th:only-of-type {\n",
              "        vertical-align: middle;\n",
              "    }\n",
              "\n",
              "    .dataframe tbody tr th {\n",
              "        vertical-align: top;\n",
              "    }\n",
              "\n",
              "    .dataframe thead th {\n",
              "        text-align: right;\n",
              "    }\n",
              "</style>\n",
              "<table border=\"1\" class=\"dataframe\">\n",
              "  <thead>\n",
              "    <tr style=\"text-align: right;\">\n",
              "      <th></th>\n",
              "      <th>Tweets</th>\n",
              "      <th>Subjectivity</th>\n",
              "      <th>Polarity</th>\n",
              "      <th>Analysis</th>\n",
              "    </tr>\n",
              "  </thead>\n",
              "  <tbody>\n",
              "    <tr>\n",
              "      <th>0</th>\n",
              "      <td>PM lauds UP’s industrial dept, ease of doing b...</td>\n",
              "      <td>0.000000</td>\n",
              "      <td>0.000000</td>\n",
              "      <td>Neutral</td>\n",
              "    </tr>\n",
              "    <tr>\n",
              "      <th>1</th>\n",
              "      <td>India's exports rise to all-time high of $95 b...</td>\n",
              "      <td>0.540000</td>\n",
              "      <td>0.160000</td>\n",
              "      <td>Positive</td>\n",
              "    </tr>\n",
              "    <tr>\n",
              "      <th>2</th>\n",
              "      <td>Modi Govt Includes Retail And Wholesale Trades...</td>\n",
              "      <td>0.000000</td>\n",
              "      <td>0.000000</td>\n",
              "      <td>Neutral</td>\n",
              "    </tr>\n",
              "    <tr>\n",
              "      <th>3</th>\n",
              "      <td>जानिए श्रीनगर के तारिक अहमद पतलू को पीएम मोदी ...</td>\n",
              "      <td>0.000000</td>\n",
              "      <td>0.000000</td>\n",
              "      <td>Neutral</td>\n",
              "    </tr>\n",
              "    <tr>\n",
              "      <th>4</th>\n",
              "      <td>पीएम मोदी ने किया उत्तराखंड के सच्चिदानंद भारत...</td>\n",
              "      <td>0.000000</td>\n",
              "      <td>0.000000</td>\n",
              "      <td>Neutral</td>\n",
              "    </tr>\n",
              "    <tr>\n",
              "      <th>...</th>\n",
              "      <td>...</td>\n",
              "      <td>...</td>\n",
              "      <td>...</td>\n",
              "      <td>...</td>\n",
              "    </tr>\n",
              "    <tr>\n",
              "      <th>95</th>\n",
              "      <td>Head to the all new Vikas Yatra on NaMo App an...</td>\n",
              "      <td>0.443182</td>\n",
              "      <td>0.170455</td>\n",
              "      <td>Positive</td>\n",
              "    </tr>\n",
              "    <tr>\n",
              "      <th>96</th>\n",
              "      <td>The journey of 7 years of Modi government is g...</td>\n",
              "      <td>0.454545</td>\n",
              "      <td>0.136364</td>\n",
              "      <td>Positive</td>\n",
              "    </tr>\n",
              "    <tr>\n",
              "      <th>97</th>\n",
              "      <td>MannKiBaat at 11AM. Do tune in. https//t.co/T0...</td>\n",
              "      <td>0.000000</td>\n",
              "      <td>0.000000</td>\n",
              "      <td>Neutral</td>\n",
              "    </tr>\n",
              "    <tr>\n",
              "      <th>98</th>\n",
              "      <td>PM  lauds Kashi COVID Response Centre's effort...</td>\n",
              "      <td>0.000000</td>\n",
              "      <td>0.000000</td>\n",
              "      <td>Neutral</td>\n",
              "    </tr>\n",
              "    <tr>\n",
              "      <th>99</th>\n",
              "      <td>PM  gets emotional, remembers those who lost t...</td>\n",
              "      <td>0.650000</td>\n",
              "      <td>0.000000</td>\n",
              "      <td>Neutral</td>\n",
              "    </tr>\n",
              "  </tbody>\n",
              "</table>\n",
              "<p>100 rows × 4 columns</p>\n",
              "</div>"
            ],
            "text/plain": [
              "                                               Tweets  ...  Analysis\n",
              "0   PM lauds UP’s industrial dept, ease of doing b...  ...   Neutral\n",
              "1   India's exports rise to all-time high of $95 b...  ...  Positive\n",
              "2   Modi Govt Includes Retail And Wholesale Trades...  ...   Neutral\n",
              "3   जानिए श्रीनगर के तारिक अहमद पतलू को पीएम मोदी ...  ...   Neutral\n",
              "4   पीएम मोदी ने किया उत्तराखंड के सच्चिदानंद भारत...  ...   Neutral\n",
              "..                                                ...  ...       ...\n",
              "95  Head to the all new Vikas Yatra on NaMo App an...  ...  Positive\n",
              "96  The journey of 7 years of Modi government is g...  ...  Positive\n",
              "97  MannKiBaat at 11AM. Do tune in. https//t.co/T0...  ...   Neutral\n",
              "98  PM  lauds Kashi COVID Response Centre's effort...  ...   Neutral\n",
              "99  PM  gets emotional, remembers those who lost t...  ...   Neutral\n",
              "\n",
              "[100 rows x 4 columns]"
            ]
          },
          "metadata": {
            "tags": []
          },
          "execution_count": 6
        }
      ]
    },
    {
      "cell_type": "code",
      "metadata": {
        "id": "NvlDqmYVPAa8",
        "colab": {
          "base_uri": "https://localhost:8080/"
        },
        "outputId": "96414137-26d7-480e-bc83-ac13351d4496"
      },
      "source": [
        "#Get the percentage of positive tweets\n",
        "ptweets = df[df.Analysis == 'Positive']\n",
        "ptweets = ptweets['Tweets']\n",
        "\n",
        "round(  (ptweets.shape[0] / df.shape[0]) *100,1)"
      ],
      "execution_count": null,
      "outputs": [
        {
          "output_type": "execute_result",
          "data": {
            "text/plain": [
              "45.0"
            ]
          },
          "metadata": {
            "tags": []
          },
          "execution_count": 7
        }
      ]
    },
    {
      "cell_type": "code",
      "metadata": {
        "id": "TmJIg2oVPn4P",
        "colab": {
          "base_uri": "https://localhost:8080/"
        },
        "outputId": "86596e6c-6fd9-4cc1-fee3-355a3fdb998a"
      },
      "source": [
        "#Get the percentage of negative tweets\n",
        "ntweets = df[df.Analysis == 'Negative']\n",
        "ntweets = ntweets['Tweets']\n",
        "\n",
        "round(  (ntweets.shape[0] / df.shape[0]) * 100,1)"
      ],
      "execution_count": null,
      "outputs": [
        {
          "output_type": "execute_result",
          "data": {
            "text/plain": [
              "3.0"
            ]
          },
          "metadata": {
            "tags": []
          },
          "execution_count": 8
        }
      ]
    },
    {
      "cell_type": "code",
      "metadata": {
        "id": "mWwjXQD2QLr4",
        "colab": {
          "base_uri": "https://localhost:8080/",
          "height": 331
        },
        "outputId": "c9045b6e-70a8-4cb4-ba9e-ae43bf9c44a1"
      },
      "source": [
        "#Show the value counts \n",
        "df['Analysis'].value_counts()\n",
        "\n",
        "#plot and visualize the counts\n",
        "plt.title('Sentiment Analysis')\n",
        "plt.xlabel('Sentiment')\n",
        "plt.ylabel('Counts')\n",
        "df['Analysis'].value_counts().plot(kind='bar')\n",
        "plt.show()"
      ],
      "execution_count": null,
      "outputs": [
        {
          "output_type": "display_data",
          "data": {
            "image/png": "[encoded data removed]",
            "text/plain": [
              "<Figure size 432x288 with 1 Axes>"
            ]
          },
          "metadata": {
            "tags": [],
            "needs_background": "light"
          }
        }
      ]
    },
    {
      "cell_type": "code",
      "metadata": {
        "id": "UZC0d9WOQ6yJ"
      },
      "source": [
        ""
      ],
      "execution_count": null,
      "outputs": []
    }
  ]
}